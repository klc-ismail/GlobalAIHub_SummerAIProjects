{
 "cells": [
  {
   "cell_type": "markdown",
   "metadata": {
    "id": "iMrck4Y2OooI"
   },
   "source": [
    "# Importing Libraries and the Dataset\n",
    "\n"
   ]
  },
  {
   "cell_type": "code",
   "execution_count": null,
   "metadata": {
    "id": "q-6mQ8HxNu4r",
    "outputId": "0efd6346-1cdd-4c18-9dd0-103354473a49",
    "pycharm": {
     "name": "#%%\n"
    }
   },
   "outputs": [
    {
     "data": {
      "text/html": [
       "<div>\n",
       "<style scoped>\n",
       "    .dataframe tbody tr th:only-of-type {\n",
       "        vertical-align: middle;\n",
       "    }\n",
       "\n",
       "    .dataframe tbody tr th {\n",
       "        vertical-align: top;\n",
       "    }\n",
       "\n",
       "    .dataframe thead th {\n",
       "        text-align: right;\n",
       "    }\n",
       "</style>\n",
       "<table border=\"1\" class=\"dataframe\">\n",
       "  <thead>\n",
       "    <tr style=\"text-align: right;\">\n",
       "      <th></th>\n",
       "      <th>age</th>\n",
       "      <th>sex</th>\n",
       "      <th>bmi</th>\n",
       "      <th>children</th>\n",
       "      <th>smoker</th>\n",
       "      <th>region</th>\n",
       "      <th>charges</th>\n",
       "    </tr>\n",
       "  </thead>\n",
       "  <tbody>\n",
       "    <tr>\n",
       "      <th>0</th>\n",
       "      <td>19</td>\n",
       "      <td>female</td>\n",
       "      <td>27.900</td>\n",
       "      <td>0</td>\n",
       "      <td>yes</td>\n",
       "      <td>southwest</td>\n",
       "      <td>16884.92400</td>\n",
       "    </tr>\n",
       "    <tr>\n",
       "      <th>1</th>\n",
       "      <td>18</td>\n",
       "      <td>male</td>\n",
       "      <td>33.770</td>\n",
       "      <td>1</td>\n",
       "      <td>no</td>\n",
       "      <td>southeast</td>\n",
       "      <td>1725.55230</td>\n",
       "    </tr>\n",
       "    <tr>\n",
       "      <th>2</th>\n",
       "      <td>28</td>\n",
       "      <td>male</td>\n",
       "      <td>33.000</td>\n",
       "      <td>3</td>\n",
       "      <td>no</td>\n",
       "      <td>southeast</td>\n",
       "      <td>4449.46200</td>\n",
       "    </tr>\n",
       "    <tr>\n",
       "      <th>3</th>\n",
       "      <td>33</td>\n",
       "      <td>male</td>\n",
       "      <td>22.705</td>\n",
       "      <td>0</td>\n",
       "      <td>no</td>\n",
       "      <td>northwest</td>\n",
       "      <td>21984.47061</td>\n",
       "    </tr>\n",
       "    <tr>\n",
       "      <th>4</th>\n",
       "      <td>32</td>\n",
       "      <td>male</td>\n",
       "      <td>28.880</td>\n",
       "      <td>0</td>\n",
       "      <td>no</td>\n",
       "      <td>northwest</td>\n",
       "      <td>3866.85520</td>\n",
       "    </tr>\n",
       "  </tbody>\n",
       "</table>\n",
       "</div>"
      ],
      "text/plain": [
       "   age     sex     bmi  children smoker     region      charges\n",
       "0   19  female  27.900         0    yes  southwest  16884.92400\n",
       "1   18    male  33.770         1     no  southeast   1725.55230\n",
       "2   28    male  33.000         3     no  southeast   4449.46200\n",
       "3   33    male  22.705         0     no  northwest  21984.47061\n",
       "4   32    male  28.880         0     no  northwest   3866.85520"
      ]
     },
     "execution_count": 290,
     "metadata": {},
     "output_type": "execute_result"
    }
   ],
   "source": [
    "import pandas as pd\n",
    "import numpy as np\n",
    "import os\n",
    "\n",
    "\n",
    "\n",
    "df = pd.read_csv('insurance.csv')\n",
    "df.head()"
   ]
  },
  {
   "cell_type": "markdown",
   "metadata": {
    "id": "U_KghXX8PWOs"
   },
   "source": [
    "## Data Preprocessing"
   ]
  },
  {
   "cell_type": "code",
   "execution_count": null,
   "metadata": {
    "id": "pxDW5UN-Nu4t",
    "outputId": "06d34b4e-515d-4c98-ca59-ef6a7f93a0f4",
    "pycharm": {
     "name": "#%%\n"
    }
   },
   "outputs": [
    {
     "name": "stdout",
     "output_type": "stream",
     "text": [
      "<class 'pandas.core.frame.DataFrame'>\n",
      "RangeIndex: 1338 entries, 0 to 1337\n",
      "Data columns (total 7 columns):\n",
      " #   Column    Non-Null Count  Dtype  \n",
      "---  ------    --------------  -----  \n",
      " 0   age       1338 non-null   int64  \n",
      " 1   sex       1338 non-null   object \n",
      " 2   bmi       1338 non-null   float64\n",
      " 3   children  1338 non-null   int64  \n",
      " 4   smoker    1338 non-null   object \n",
      " 5   region    1338 non-null   object \n",
      " 6   charges   1338 non-null   float64\n",
      "dtypes: float64(2), int64(2), object(3)\n",
      "memory usage: 73.3+ KB\n"
     ]
    }
   ],
   "source": [
    "df.info()"
   ]
  },
  {
   "cell_type": "code",
   "execution_count": null,
   "metadata": {
    "id": "tNk-cSJ3Nu4u",
    "outputId": "e3e50115-3acc-4d0b-a2ce-10259fb8865a",
    "pycharm": {
     "name": "#%%\n"
    }
   },
   "outputs": [
    {
     "data": {
      "text/plain": [
       "array(['female', 'male'], dtype=object)"
      ]
     },
     "execution_count": 292,
     "metadata": {},
     "output_type": "execute_result"
    }
   ],
   "source": [
    "df['sex'].unique()"
   ]
  },
  {
   "cell_type": "code",
   "execution_count": null,
   "metadata": {
    "id": "oIxBL0tzNu4u",
    "outputId": "13f41b98-6e55-451c-d06c-cda940966a48",
    "pycharm": {
     "name": "#%%\n"
    }
   },
   "outputs": [
    {
     "data": {
      "text/plain": [
       "array(['yes', 'no'], dtype=object)"
      ]
     },
     "execution_count": 293,
     "metadata": {},
     "output_type": "execute_result"
    }
   ],
   "source": [
    "df['smoker'].unique()"
   ]
  },
  {
   "cell_type": "code",
   "execution_count": null,
   "metadata": {
    "id": "tl77KG-_Nu4v",
    "outputId": "af00057e-b2af-47ae-87f4-3fc8df0d7545",
    "pycharm": {
     "name": "#%%\n"
    }
   },
   "outputs": [
    {
     "data": {
      "text/plain": [
       "array(['southwest', 'southeast', 'northwest', 'northeast'], dtype=object)"
      ]
     },
     "execution_count": 294,
     "metadata": {},
     "output_type": "execute_result"
    }
   ],
   "source": [
    "df['region'].unique()"
   ]
  },
  {
   "cell_type": "code",
   "execution_count": null,
   "metadata": {
    "id": "BCoaUtxJNu4v",
    "outputId": "e2eabc2a-fbec-49eb-f2f1-34a4a3970d0e",
    "pycharm": {
     "name": "#%%\n"
    }
   },
   "outputs": [
    {
     "name": "stdout",
     "output_type": "stream",
     "text": [
      "      age     bmi  children  region      charges  female  male  no  yes\n",
      "0      19  27.900         0       3  16884.92400       1     0   0    1\n",
      "1      18  33.770         1       2   1725.55230       0     1   1    0\n",
      "2      28  33.000         3       2   4449.46200       0     1   1    0\n",
      "3      33  22.705         0       1  21984.47061       0     1   1    0\n",
      "4      32  28.880         0       1   3866.85520       0     1   1    0\n",
      "...   ...     ...       ...     ...          ...     ...   ...  ..  ...\n",
      "1333   50  30.970         3       1  10600.54830       0     1   1    0\n",
      "1334   18  31.920         0       0   2205.98080       1     0   1    0\n",
      "1335   18  36.850         0       2   1629.83350       1     0   1    0\n",
      "1336   21  25.800         0       3   2007.94500       1     0   1    0\n",
      "1337   61  29.070         0       1  29141.36030       1     0   0    1\n",
      "\n",
      "[1338 rows x 9 columns]\n"
     ]
    }
   ],
   "source": [
    "a = pd.get_dummies(df['sex'])\n",
    "df = pd.concat([df.drop(['sex'],axis=1), a],axis=1)\n",
    "\n",
    "b = pd.get_dummies(df['smoker'])\n",
    "df = pd.concat([df.drop(['smoker'],axis=1), b],axis=1)\n",
    "\n",
    "\n",
    "c = pd.get_dummies(df['region'])\n",
    "df = pd.concat([df.drop(['region'],axis=1), c],axis=1)\n",
    "\n",
    "\"\"\"\n",
    "3,northeast\n",
    "2,northwest\n",
    "1,southeast\n",
    "0,southwest\n",
    "\"\"\"\n",
    "print(df)"
   ]
  },
  {
   "cell_type": "code",
   "execution_count": null,
   "metadata": {
    "id": "Kk01YLwlNu4w",
    "outputId": "f9b57d34-bab8-49b2-9cb4-f522a103d7fa",
    "pycharm": {
     "name": "#%%\n"
    }
   },
   "outputs": [
    {
     "data": {
      "image/png": "[encoded data removed]",
      "text/plain": [
       "<Figure size 432x288 with 1 Axes>"
      ]
     },
     "metadata": {},
     "output_type": "display_data"
    }
   ],
   "source": [
    "import matplotlib.pyplot as plt\n",
    "plt.hist(df['charges'''])\n",
    "plt.show()"
   ]
  },
  {
   "cell_type": "code",
   "execution_count": null,
   "metadata": {
    "id": "lFn1PqTvNu4w",
    "outputId": "dd75515c-9414-42ee-9e48-a0ac1a6d9d29",
    "pycharm": {
     "name": "#%%\n"
    }
   },
   "outputs": [
    {
     "data": {
      "image/png": "[encoded data removed]",
      "text/plain": [
       "<Figure size 432x288 with 1 Axes>"
      ]
     },
     "metadata": {},
     "output_type": "display_data"
    }
   ],
   "source": [
    "plt.hist(df['age'])\n",
    "plt.show()"
   ]
  },
  {
   "cell_type": "code",
   "execution_count": null,
   "metadata": {
    "id": "4ktb4nlSNu4w",
    "outputId": "3a347369-16da-4a4b-d7a4-35838b89b864",
    "pycharm": {
     "name": "#%%\n"
    }
   },
   "outputs": [
    {
     "data": {
      "image/png": "[encoded data removed]",
      "text/plain": [
       "<Figure size 432x288 with 1 Axes>"
      ]
     },
     "metadata": {},
     "output_type": "display_data"
    }
   ],
   "source": [
    "plt.hist(df['bmi'])\n",
    "plt.show()"
   ]
  },
  {
   "cell_type": "code",
   "execution_count": null,
   "metadata": {
    "id": "Lnz9JenkNu4x",
    "outputId": "e88fc818-c8ed-4a6d-8d1c-6e1a73bfb523",
    "pycharm": {
     "name": "#%%\n"
    }
   },
   "outputs": [
    {
     "data": {
      "image/png": "[encoded data removed]",
      "text/plain": [
       "<Figure size 432x288 with 1 Axes>"
      ]
     },
     "metadata": {},
     "output_type": "display_data"
    }
   ],
   "source": [
    "plt.hist(df['children'])\n",
    "plt.show()"
   ]
  },
  {
   "cell_type": "markdown",
   "metadata": {
    "id": "8odHHyUsRF-q"
   },
   "source": [
    "## Min-Max Scaling"
   ]
  },
  {
   "cell_type": "code",
   "execution_count": null,
   "metadata": {
    "id": "lAfGo0zTNu4y",
    "pycharm": {
     "name": "#%%\n"
    }
   },
   "outputs": [],
   "source": [
    "df['age_n'] = (df['age']-df['age'].min())/(df['age'].max()-df['age'].min())"
   ]
  },
  {
   "cell_type": "code",
   "execution_count": null,
   "metadata": {
    "id": "WIH0vHwQNu4y",
    "outputId": "c40a8b1d-fd3d-4545-a5f2-3e23e22e7b73",
    "pycharm": {
     "name": "#%%\n"
    }
   },
   "outputs": [
    {
     "data": {
      "image/png": "[encoded data removed]",
      "text/plain": [
       "<Figure size 432x288 with 1 Axes>"
      ]
     },
     "metadata": {},
     "output_type": "display_data"
    }
   ],
   "source": [
    "df['bmi_n'] = (df['bmi']-df['bmi'].min())/(df['bmi'].max()-df['bmi'].min())\n",
    "plt.hist(df['bmi_n'])\n",
    "plt.show()"
   ]
  },
  {
   "cell_type": "code",
   "execution_count": null,
   "metadata": {
    "id": "S0OdQCy3ANHh"
   },
   "outputs": [],
   "source": [
    "df.pop('age')\n",
    "df.pop('bmi')"
   ]
  },
  {
   "cell_type": "code",
   "execution_count": null,
   "metadata": {
    "id": "jy9kMPyRAZIq"
   },
   "outputs": [],
   "source": []
  },
  {
   "cell_type": "markdown",
   "metadata": {
    "id": "NYNcEEsQAPV5"
   },
   "source": [
    "#Dividing Dataset to Train and Test Datasets"
   ]
  },
  {
   "cell_type": "code",
   "execution_count": null,
   "metadata": {
    "id": "tQFSbJr8Nu4y",
    "pycharm": {
     "name": "#%%\n"
    }
   },
   "outputs": [],
   "source": [
    "from sklearn.model_selection import train_test_split\n",
    "X = df.drop(['charges'],axis=1)\n",
    "y = df['charges']"
   ]
  },
  {
   "cell_type": "code",
   "execution_count": null,
   "metadata": {
    "id": "IpYugaiFNu4z",
    "outputId": "8975043c-bb1e-4e92-b928-e67cd4fe1260",
    "pycharm": {
     "name": "#%%\n"
    }
   },
   "outputs": [
    {
     "name": "stdout",
     "output_type": "stream",
     "text": [
      "X_train:  (1070, 8) \n",
      "X_test:  (268, 8) \n",
      "y_train:  (1070,) \n",
      "y_test:  (268,)\n"
     ]
    }
   ],
   "source": [
    "X_train, X_test, y_train, y_test = train_test_split(X,y,test_size=0.2,random_state=0)\n",
    "print('X_train: ',X_train.shape,'\\nX_test: ',X_test.shape,'\\ny_train: ',y_train.shape,'\\ny_test: ',y_test.shape)"
   ]
  },
  {
   "cell_type": "code",
   "execution_count": null,
   "metadata": {
    "id": "GUxKERziNu4z",
    "outputId": "47f3f993-0903-457f-a2ff-229e8aa97588",
    "pycharm": {
     "name": "#%%\n"
    }
   },
   "outputs": [
    {
     "data": {
      "text/html": [
       "<div>\n",
       "<style scoped>\n",
       "    .dataframe tbody tr th:only-of-type {\n",
       "        vertical-align: middle;\n",
       "    }\n",
       "\n",
       "    .dataframe tbody tr th {\n",
       "        vertical-align: top;\n",
       "    }\n",
       "\n",
       "    .dataframe thead th {\n",
       "        text-align: right;\n",
       "    }\n",
       "</style>\n",
       "<table border=\"1\" class=\"dataframe\">\n",
       "  <thead>\n",
       "    <tr style=\"text-align: right;\">\n",
       "      <th></th>\n",
       "      <th>children</th>\n",
       "      <th>region</th>\n",
       "      <th>female</th>\n",
       "      <th>male</th>\n",
       "      <th>no</th>\n",
       "      <th>yes</th>\n",
       "      <th>age_n</th>\n",
       "      <th>bmi_n</th>\n",
       "    </tr>\n",
       "  </thead>\n",
       "  <tbody>\n",
       "    <tr>\n",
       "      <th>621</th>\n",
       "      <td>4</td>\n",
       "      <td>3</td>\n",
       "      <td>0</td>\n",
       "      <td>1</td>\n",
       "      <td>0</td>\n",
       "      <td>1</td>\n",
       "      <td>0.413043</td>\n",
       "      <td>0.488028</td>\n",
       "    </tr>\n",
       "    <tr>\n",
       "      <th>194</th>\n",
       "      <td>0</td>\n",
       "      <td>2</td>\n",
       "      <td>0</td>\n",
       "      <td>1</td>\n",
       "      <td>1</td>\n",
       "      <td>0</td>\n",
       "      <td>0.000000</td>\n",
       "      <td>0.496906</td>\n",
       "    </tr>\n",
       "    <tr>\n",
       "      <th>240</th>\n",
       "      <td>2</td>\n",
       "      <td>0</td>\n",
       "      <td>1</td>\n",
       "      <td>0</td>\n",
       "      <td>0</td>\n",
       "      <td>1</td>\n",
       "      <td>0.108696</td>\n",
       "      <td>0.557170</td>\n",
       "    </tr>\n",
       "    <tr>\n",
       "      <th>1168</th>\n",
       "      <td>2</td>\n",
       "      <td>3</td>\n",
       "      <td>0</td>\n",
       "      <td>1</td>\n",
       "      <td>1</td>\n",
       "      <td>0</td>\n",
       "      <td>0.304348</td>\n",
       "      <td>0.517622</td>\n",
       "    </tr>\n",
       "    <tr>\n",
       "      <th>1192</th>\n",
       "      <td>1</td>\n",
       "      <td>0</td>\n",
       "      <td>1</td>\n",
       "      <td>0</td>\n",
       "      <td>1</td>\n",
       "      <td>0</td>\n",
       "      <td>0.869565</td>\n",
       "      <td>0.442158</td>\n",
       "    </tr>\n",
       "    <tr>\n",
       "      <th>...</th>\n",
       "      <td>...</td>\n",
       "      <td>...</td>\n",
       "      <td>...</td>\n",
       "      <td>...</td>\n",
       "      <td>...</td>\n",
       "      <td>...</td>\n",
       "      <td>...</td>\n",
       "      <td>...</td>\n",
       "    </tr>\n",
       "    <tr>\n",
       "      <th>763</th>\n",
       "      <td>0</td>\n",
       "      <td>0</td>\n",
       "      <td>0</td>\n",
       "      <td>1</td>\n",
       "      <td>1</td>\n",
       "      <td>0</td>\n",
       "      <td>0.195652</td>\n",
       "      <td>0.270917</td>\n",
       "    </tr>\n",
       "    <tr>\n",
       "      <th>835</th>\n",
       "      <td>2</td>\n",
       "      <td>2</td>\n",
       "      <td>0</td>\n",
       "      <td>1</td>\n",
       "      <td>1</td>\n",
       "      <td>0</td>\n",
       "      <td>0.521739</td>\n",
       "      <td>0.538337</td>\n",
       "    </tr>\n",
       "    <tr>\n",
       "      <th>1216</th>\n",
       "      <td>0</td>\n",
       "      <td>2</td>\n",
       "      <td>0</td>\n",
       "      <td>1</td>\n",
       "      <td>1</td>\n",
       "      <td>0</td>\n",
       "      <td>0.478261</td>\n",
       "      <td>0.245359</td>\n",
       "    </tr>\n",
       "    <tr>\n",
       "      <th>559</th>\n",
       "      <td>0</td>\n",
       "      <td>1</td>\n",
       "      <td>0</td>\n",
       "      <td>1</td>\n",
       "      <td>1</td>\n",
       "      <td>0</td>\n",
       "      <td>0.021739</td>\n",
       "      <td>0.526500</td>\n",
       "    </tr>\n",
       "    <tr>\n",
       "      <th>684</th>\n",
       "      <td>1</td>\n",
       "      <td>3</td>\n",
       "      <td>1</td>\n",
       "      <td>0</td>\n",
       "      <td>1</td>\n",
       "      <td>0</td>\n",
       "      <td>0.326087</td>\n",
       "      <td>0.068335</td>\n",
       "    </tr>\n",
       "  </tbody>\n",
       "</table>\n",
       "<p>1070 rows × 8 columns</p>\n",
       "</div>"
      ],
      "text/plain": [
       "      children  region  female  male  no  yes     age_n     bmi_n\n",
       "621          4       3       0     1   0    1  0.413043  0.488028\n",
       "194          0       2       0     1   1    0  0.000000  0.496906\n",
       "240          2       0       1     0   0    1  0.108696  0.557170\n",
       "1168         2       3       0     1   1    0  0.304348  0.517622\n",
       "1192         1       0       1     0   1    0  0.869565  0.442158\n",
       "...        ...     ...     ...   ...  ..  ...       ...       ...\n",
       "763          0       0       0     1   1    0  0.195652  0.270917\n",
       "835          2       2       0     1   1    0  0.521739  0.538337\n",
       "1216         0       2       0     1   1    0  0.478261  0.245359\n",
       "559          0       1       0     1   1    0  0.021739  0.526500\n",
       "684          1       3       1     0   1    0  0.326087  0.068335\n",
       "\n",
       "[1070 rows x 8 columns]"
      ]
     },
     "execution_count": 304,
     "metadata": {},
     "output_type": "execute_result"
    }
   ],
   "source": [
    "X_train"
   ]
  },
  {
   "cell_type": "markdown",
   "metadata": {
    "id": "qtaHUyGbNu40",
    "pycharm": {
     "name": "#%% md\n"
    }
   },
   "source": [
    "# Using Regression Methods "
   ]
  },
  {
   "cell_type": "markdown",
   "metadata": {
    "id": "OqJFdq3LSRMH"
   },
   "source": [
    "Lineer Regression\n"
   ]
  },
  {
   "cell_type": "code",
   "execution_count": null,
   "metadata": {
    "id": "Lj3Us7v2Nu41",
    "outputId": "52ca8ae5-b121-44cf-b5f5-121022ec63f3",
    "pycharm": {
     "name": "#%%\n"
    }
   },
   "outputs": [
    {
     "name": "stdout",
     "output_type": "stream",
     "text": [
      "Lineer...................\n",
      "train Root MSE:  6142.440924408568\n",
      "train R**2 score:  0.7368306228430945\n",
      "test Root MSE:  5643.219748880902\n",
      "test R**2 score:  0.7998747145449959\n"
     ]
    }
   ],
   "source": [
    "from sklearn.linear_model import LinearRegression\n",
    "from sklearn.preprocessing import StandardScaler\n",
    "from sklearn.metrics import mean_squared_error\n",
    "\n",
    "lr = LinearRegression()\n",
    "lr.fit(X_train, y_train)\n",
    "print(\"Lineer...................\")\n",
    "\n",
    "pred_train_lr= lr.predict(X_train)\n",
    "print('train Root MSE: ',np.sqrt(mean_squared_error(y_train,pred_train_lr)))\n",
    "print('train R**2 score: ',r2_score(y_train, pred_train_lr))\n",
    "\n",
    "pred_test_lr= lr.predict(X_test)\n",
    "print('test Root MSE: ',np.sqrt(mean_squared_error(y_test,pred_test_lr)))\n",
    "print('test R**2 score: ',r2_score(y_test, pred_test_lr))\n"
   ]
  },
  {
   "cell_type": "code",
   "execution_count": null,
   "metadata": {
    "id": "aF9sYdwsNu42",
    "outputId": "3213b520-23a2-43d6-dc77-e92a08f1861a",
    "pycharm": {
     "name": "#%%\n"
    }
   },
   "outputs": [
    {
     "name": "stdout",
     "output_type": "stream",
     "text": [
      "[0.76123983 0.70838663 0.77786772 0.73365206 0.7551335 ]\n",
      "Ortalama 5 katlı cross_validation: 0.7472559473580954\n"
     ]
    }
   ],
   "source": [
    "from sklearn.model_selection import cross_val_score,cross_val_predict\n",
    "\n",
    "\n",
    "cv_results = cross_val_score(reg,X,y,cv=5)\n",
    "print(cv_results)\n",
    "\n",
    "\n",
    "print(\"Ortalama 5 katlı cross_validation: {}\".format(np.mean(cv_results)))"
   ]
  },
  {
   "cell_type": "markdown",
   "metadata": {
    "id": "Tvi9afFQTV4o"
   },
   "source": [
    "Ridge Regression\n"
   ]
  },
  {
   "cell_type": "code",
   "execution_count": null,
   "metadata": {
    "id": "Odh5DyK0Nu42",
    "outputId": "0d7543bf-21a3-40d8-90b0-6a3537236a68",
    "pycharm": {
     "name": "#%%\n"
    }
   },
   "outputs": [
    {
     "name": "stdout",
     "output_type": "stream",
     "text": [
      "Ridge...................\n",
      "train Root MSE:  6142.943944998294\n",
      "train R**2 score:  0.7367875178177858\n",
      "test Root MSE:  5649.098731417348\n",
      "test R**2 score:  0.7994575250844261\n"
     ]
    }
   ],
   "source": [
    "from sklearn.linear_model import Ridge\n",
    "from sklearn.metrics import r2_score\n",
    "rr = Ridge(alpha=1.0)\n",
    "print(\"Ridge...................\")\n",
    "rr.fit(X_train, y_train)\n",
    "pred_train_rr= rr.predict(X_train)\n",
    "print('train Root MSE: ',np.sqrt(mean_squared_error(y_train,pred_train_rr)))\n",
    "print('train R**2 score: ',r2_score(y_train, pred_train_rr))\n",
    "\n",
    "pred_test_rr= rr.predict(X_test)\n",
    "print('test Root MSE: ',np.sqrt(mean_squared_error(y_test,pred_test_rr)))\n",
    "print('test R**2 score: ',r2_score(y_test, pred_test_rr))"
   ]
  },
  {
   "cell_type": "markdown",
   "metadata": {
    "id": "1AjYW9cRTlm3"
   },
   "source": [
    "Lasso Regression"
   ]
  },
  {
   "cell_type": "code",
   "execution_count": null,
   "metadata": {
    "id": "KsRpEVVINu43",
    "outputId": "c4c520d3-b732-4cce-85a1-c50c01e696fe",
    "pycharm": {
     "name": "#%%\n"
    }
   },
   "outputs": [
    {
     "name": "stdout",
     "output_type": "stream",
     "text": [
      "Lasso...................\n",
      "train Root MSE:  6142.441354827166\n",
      "train R**2 score:  0.7368305859610147\n",
      "test Root MSE:  5643.41905441384\n",
      "test R**2 score:  0.799860578366435\n"
     ]
    }
   ],
   "source": [
    "from sklearn.linear_model import Lasso\n",
    "model_lasso = Lasso(alpha=0.3)\n",
    "model_lasso.fit(X_train, y_train)\n",
    "\n",
    "print(\"Lasso...................\")\n",
    "\n",
    "pred_train_lasso= model_lasso.predict(X_train)\n",
    "print('train Root MSE: ',np.sqrt(mean_squared_error(y_train,pred_train_lasso)))\n",
    "print('train R**2 score: ',r2_score(y_train, pred_train_lasso))\n",
    "\n",
    "pred_test_lasso= model_lasso.predict(X_test)\n",
    "print('test Root MSE: ',np.sqrt(mean_squared_error(y_test,pred_test_lasso)))\n",
    "print('test R**2 score: ',r2_score(y_test, pred_test_lasso))\n"
   ]
  },
  {
   "cell_type": "markdown",
   "metadata": {
    "id": "TqB3pek1TuO-"
   },
   "source": [
    "Elastic Net Regression"
   ]
  },
  {
   "cell_type": "code",
   "execution_count": null,
   "metadata": {
    "id": "Zoo44X31Nu44",
    "outputId": "73f5922a-426f-47c0-fd2a-9afd5d350fc9",
    "pycharm": {
     "name": "#%%\n"
    }
   },
   "outputs": [
    {
     "name": "stdout",
     "output_type": "stream",
     "text": [
      "ElasticNet...................\n",
      "train Root MSE:  6154.314840104868\n",
      "train R**2 score:  0.7358121771300434\n",
      "test Root MSE:  5683.046702284619\n",
      "test R**2 score:  0.7970399832372896\n"
     ]
    }
   ],
   "source": [
    "from sklearn.linear_model import ElasticNet\n",
    "print(\"ElasticNet...................\")\n",
    "\n",
    "model_enet = ElasticNet(alpha = 0.01)\n",
    "model_enet.fit(X_train, y_train)\n",
    "pred_train_enet= model_enet.predict(X_train)\n",
    "print('train Root MSE: ',np.sqrt(mean_squared_error(y_train,pred_train_enet)))\n",
    "print('train R**2 score: ',r2_score(y_train, pred_train_enet))\n",
    "\n",
    "pred_test_enet= model_enet.predict(X_test)\n",
    "print('test Root MSE: ',np.sqrt(mean_squared_error(y_test,pred_test_enet)))\n",
    "print('test R**2 score: ',r2_score(y_test, pred_test_enet))"
   ]
  },
  {
   "cell_type": "markdown",
   "metadata": {
    "id": "1gOkm1RgTzQh"
   },
   "source": [
    "Polynomial Regression"
   ]
  },
  {
   "cell_type": "code",
   "execution_count": null,
   "metadata": {
    "id": "pQdYpzxjNu45",
    "pycharm": {
     "name": "#%%\n"
    }
   },
   "outputs": [],
   "source": [
    "x_train_poly=X_train\n",
    "from sklearn.preprocessing import PolynomialFeatures\n",
    "poly=PolynomialFeatures(degree=4)\n",
    "poly_df=poly.fit_transform(x_train_poly)\n",
    "lin=LinearRegression()\n",
    "lin.fit(poly_df,y_train)\n",
    "y_pred_poly=lin.predict(poly_df)"
   ]
  },
  {
   "cell_type": "code",
   "execution_count": null,
   "metadata": {
    "id": "HZBUSZLpNu46",
    "outputId": "3b6e1183-3113-477f-dcba-59216006e198",
    "pycharm": {
     "name": "#%%\n"
    }
   },
   "outputs": [
    {
     "name": "stdout",
     "output_type": "stream",
     "text": [
      "0.4626180763138523\n"
     ]
    }
   ],
   "source": [
    "print(r2_score(y_train,y_pred_poly))"
   ]
  }
 ],
 "metadata": {
  "accelerator": "GPU",
  "colab": {
   "collapsed_sections": [],
   "name": "paranormal_dağılım_end_to_end",
   "provenance": []
  },
  "gpuClass": "standard",
  "kernelspec": {
   "display_name": "Python 3 (ipykernel)",
   "language": "python",
   "name": "python3"
  },
  "language_info": {
   "codemirror_mode": {
    "name": "ipython",
    "version": 3
   },
   "file_extension": ".py",
   "mimetype": "text/x-python",
   "name": "python",
   "nbconvert_exporter": "python",
   "pygments_lexer": "ipython3",
   "version": "3.9.7"
  }
 },
 "nbformat": 4,
 "nbformat_minor": 1
}
